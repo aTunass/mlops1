{
 "cells": [
  {
   "cell_type": "markdown",
   "id": "288500a2",
   "metadata": {},
   "source": [
    "# Import lib"
   ]
  },
  {
   "cell_type": "code",
   "execution_count": 1,
   "id": "9ea53043",
   "metadata": {},
   "outputs": [],
   "source": [
    "import matplotlib.pyplot as plt\n",
    "from PIL import Image\n",
    "\n",
    "from vietocr.tool.config import Cfg\n",
    "\n",
    "import numpy as np\n",
    "import torch\n",
    "import torch.nn as nn\n",
    "from torch.nn.functional import log_softmax, softmax\n",
    "\n",
    "from vietocr.tool.translate import build_model, process_input, translate_beam_search\n",
    "from vietocr.model.vocab import Vocab"
   ]
  },
  {
   "cell_type": "markdown",
   "id": "14accc76",
   "metadata": {},
   "source": [
    "# Define class encoder and decoder for convert"
   ]
  },
  {
   "cell_type": "code",
   "execution_count": 2,
   "id": "0d6e8764",
   "metadata": {},
   "outputs": [],
   "source": [
    "class TextRecognitionEncoder(nn.Module):\n",
    "    def __init__(self, config):\n",
    "        super(TextRecognitionEncoder, self).__init__()\n",
    "\n",
    "        self.device = config['device']\n",
    "        self.model, _ = build_model(config)\n",
    "        weights = config['weights']\n",
    "        self.model.load_state_dict(torch.load(weights, map_location=torch.device(self.device)))\n",
    "\n",
    "    def forward(self, img):\n",
    "        \"\"\"\n",
    "        src: timestep x batch_size x channel\n",
    "        hidden: batch_size x hid_dim\n",
    "        encoder_outputs: src_len x batch_size x hid_dim\n",
    "        \"\"\"\n",
    "        src = self.model.cnn(img)\n",
    "        encoder_outputs, hidden = self.model.transformer.encoder(src)\n",
    "        return hidden, encoder_outputs.transpose(0, 1)\n",
    "    \n",
    "class TextRecognitionDecoder(nn.Module):\n",
    "    def __init__(self, config):\n",
    "        super(TextRecognitionDecoder, self).__init__()\n",
    "\n",
    "        self.device = config['device']\n",
    "        self.model, _ = build_model(config)\n",
    "        weights = config['weights']\n",
    "        self.model.load_state_dict(torch.load(weights, map_location=torch.device(self.device)))\n",
    "\n",
    "    def forward(self, tgt, hidden, encoder_outputs):\n",
    "        \"\"\"\n",
    "        tgt: timestep x batch_size \n",
    "        hidden: batch_size x hid_dim\n",
    "        encouder: src_len x batch_size x hid_dim\n",
    "        output: batch_size x 1 x vocab_size\n",
    "        \"\"\"\n",
    "        tgt = tgt.transpose(0, 1)\n",
    "        tgt = tgt[-1]\n",
    "        encoder_outputs = encoder_outputs.transpose(0, 1)\n",
    "        output, hidden, _ = self.model.transformer.decoder(tgt, hidden, encoder_outputs)\n",
    "        output = output.unsqueeze(1)\n",
    "        \n",
    "        return output, hidden"
   ]
  },
  {
   "cell_type": "markdown",
   "id": "ee65fb13",
   "metadata": {},
   "source": [
    "# Load model and config"
   ]
  },
  {
   "cell_type": "code",
   "execution_count": 3,
   "id": "e43baa22",
   "metadata": {},
   "outputs": [
    {
     "name": "stderr",
     "output_type": "stream",
     "text": [
      "/tmp/ipykernel_50642/3477902588.py:8: FutureWarning: You are using `torch.load` with `weights_only=False` (the current default value), which uses the default pickle module implicitly. It is possible to construct malicious pickle data which will execute arbitrary code during unpickling (See https://github.com/pytorch/pytorch/blob/main/SECURITY.md#untrusted-models for more details). In a future release, the default value for `weights_only` will be flipped to `True`. This limits the functions that could be executed during unpickling. Arbitrary objects will no longer be allowed to be loaded via this mode unless they are explicitly allowlisted by the user via `torch.serialization.add_safe_globals`. We recommend you start setting `weights_only=True` for any use case where you don't have full control of the loaded file. Please open an issue on GitHub for any issues related to this experimental feature.\n",
      "  self.model.load_state_dict(torch.load(weights, map_location=torch.device(self.device)))\n",
      "/tmp/ipykernel_50642/3477902588.py:27: FutureWarning: You are using `torch.load` with `weights_only=False` (the current default value), which uses the default pickle module implicitly. It is possible to construct malicious pickle data which will execute arbitrary code during unpickling (See https://github.com/pytorch/pytorch/blob/main/SECURITY.md#untrusted-models for more details). In a future release, the default value for `weights_only` will be flipped to `True`. This limits the functions that could be executed during unpickling. Arbitrary objects will no longer be allowed to be loaded via this mode unless they are explicitly allowlisted by the user via `torch.serialization.add_safe_globals`. We recommend you start setting `weights_only=True` for any use case where you don't have full control of the loaded file. Please open an issue on GitHub for any issues related to this experimental feature.\n",
      "  self.model.load_state_dict(torch.load(weights, map_location=torch.device(self.device)))\n"
     ]
    }
   ],
   "source": [
    "config = Cfg.load_config_from_file('../config/vietocr_seq2seq_config.yaml')\n",
    "\n",
    "config['weights'] = '../checkpoint/vgg_seq2seq.pth'\n",
    "config['cnn']['pretrained']=False\n",
    "config['predictor']['beamsearch'] = False\n",
    "config['device'] = 'cuda'\n",
    "\n",
    "model_encoder = TextRecognitionEncoder(config=config)\n",
    "model_decoder = TextRecognitionDecoder(config=config)\n",
    "model_encoder.eval()\n",
    "model_decoder.eval()\n",
    "\n",
    "vocab = Vocab(config['vocab'])"
   ]
  },
  {
   "cell_type": "markdown",
   "id": "0deee321",
   "metadata": {},
   "source": [
    "# Load image"
   ]
  },
  {
   "cell_type": "code",
   "execution_count": 4,
   "id": "4a26f6e3",
   "metadata": {},
   "outputs": [],
   "source": [
    "img = Image.open(\"../asset/test.png\")\n",
    "img = process_input(img, config['dataset']['image_height'], \n",
    "                config['dataset']['image_min_width'], config['dataset']['image_max_width'])        \n",
    "img = img.to(config['device'])"
   ]
  },
  {
   "cell_type": "markdown",
   "id": "e17198f0",
   "metadata": {},
   "source": [
    "# Inference with torch"
   ]
  },
  {
   "cell_type": "code",
   "execution_count": 5,
   "id": "8a41f00d",
   "metadata": {},
   "outputs": [],
   "source": [
    "def translate_text(model_decoder, hidden, encoder_outputs, device, max_seq_length=128, sos_token=1, eos_token=2):\n",
    "\n",
    "    with torch.no_grad():\n",
    "\n",
    "        translated_sentence = [[sos_token]*len(img)]\n",
    "        char_probs = [[1]*len(img)]\n",
    "\n",
    "        max_length = 0\n",
    "\n",
    "        while max_length <= max_seq_length and not all(np.any(np.asarray(translated_sentence).T==eos_token, axis=1)):\n",
    "\n",
    "            tgt_inp = torch.LongTensor(translated_sentence).to(device)\n",
    "            \n",
    "            output, hidden = model_decoder(tgt_inp.transpose(0,1), hidden, encoder_outputs)\n",
    "            output = softmax(output, dim=-1)\n",
    "            output = output.to('cpu')\n",
    "\n",
    "            values, indices  = torch.topk(output, 5)\n",
    "            \n",
    "            indices = indices[:, -1, 0]\n",
    "            indices = indices.tolist()\n",
    "            \n",
    "            values = values[:, -1, 0]\n",
    "            values = values.tolist()\n",
    "            char_probs.append(values)\n",
    "\n",
    "            translated_sentence.append(indices)   \n",
    "            max_length += 1\n",
    "\n",
    "            del output\n",
    "\n",
    "        translated_sentence = np.asarray(translated_sentence).T\n",
    "        \n",
    "        char_probs = np.asarray(char_probs).T\n",
    "        char_probs = np.multiply(char_probs, translated_sentence>3)\n",
    "        char_probs = np.sum(char_probs, axis=-1)/(char_probs>0).sum(-1)\n",
    "    \n",
    "    return translated_sentence, char_probs"
   ]
  },
  {
   "cell_type": "code",
   "execution_count": 6,
   "id": "4b635ffa",
   "metadata": {},
   "outputs": [
    {
     "name": "stdout",
     "output_type": "stream",
     "text": [
      "Mặt hàng bán (Hoặc ngành nghề kinh doanh)\n"
     ]
    }
   ],
   "source": [
    "hidden, encoder_outputs = model_encoder(img)\n",
    "\n",
    "s, prob = translate_text(model_decoder=model_decoder, hidden=hidden, encoder_outputs=encoder_outputs, device=config['device'])\n",
    "\n",
    "s = s[0].tolist()\n",
    "prob = prob[0].tolist()\n",
    "text = vocab.decode(s)\n",
    "print(text)"
   ]
  },
  {
   "cell_type": "markdown",
   "id": "1a494c3f",
   "metadata": {},
   "source": [
    "# Convert Vietocr"
   ]
  },
  {
   "cell_type": "code",
   "execution_count": 7,
   "id": "2f01a8e5",
   "metadata": {},
   "outputs": [
    {
     "name": "stdout",
     "output_type": "stream",
     "text": [
      "Export to ONNX: Encoder of Vietocr\n"
     ]
    },
    {
     "name": "stderr",
     "output_type": "stream",
     "text": [
      "/home/tuannha/anaconda3/envs/tuannha_onnx/lib/python3.10/site-packages/torch/onnx/symbolic_opset9.py:4279: UserWarning: Exporting a model to ONNX with a batch_size other than 1, with a variable length with GRU can cause an error when running the ONNX model with a different batch size. Make sure to save the model with a batch size of 1, or define the initial states (h0/c0) as inputs of the model. \n",
      "  warnings.warn(\n"
     ]
    }
   ],
   "source": [
    "print(\"Export to ONNX: Encoder of Vietocr\")\n",
    "onnx_path = \"../checkpoint/text_recognition_encoder.onnx\"\n",
    "torch.onnx.export(\n",
    "    model_encoder,                       \n",
    "    img,                  \n",
    "    onnx_path,                \n",
    "    export_params=True,          \n",
    "    opset_version=15,            \n",
    "    do_constant_folding=True,     \n",
    "    input_names=['input_image'],   \n",
    "    output_names=['hidden', 'encoder_outputs'],  \n",
    "    dynamic_axes={                 \n",
    "        'input_image': {0: 'batch_size', 2: 'height', 3: 'width'},\n",
    "        'hidden': {0: 'batch_size'},\n",
    "        'encoder_outputs': {0: 'batch_size', 1: 'src_len'}\n",
    "    }\n",
    ")"
   ]
  },
  {
   "cell_type": "code",
   "execution_count": 8,
   "id": "6ef16d16",
   "metadata": {},
   "outputs": [
    {
     "name": "stdout",
     "output_type": "stream",
     "text": [
      "Export to ONNX: Decoder of Vietocr\n"
     ]
    },
    {
     "name": "stderr",
     "output_type": "stream",
     "text": [
      "/home/tuannha/anaconda3/envs/tuannha_onnx/lib/python3.10/site-packages/vietocr/model/seqmodel/seq2seq.py:93: TracerWarning: Converting a tensor to a Python boolean might cause the trace to be incorrect. We can't record the data flow of Python values, so this value will be treated as a constant in the future. This means that the trace might not generalize to other inputs!\n",
      "  assert (output == hidden).all()\n"
     ]
    }
   ],
   "source": [
    "tgt_inp = torch.full((1, 1), 1, dtype=torch.long, device=config['device'])\n",
    "print(\"Export to ONNX: Decoder of Vietocr\")\n",
    "onnx_path = \"../checkpoint/text_recognition_decoder.onnx\"\n",
    "torch.onnx.export(\n",
    "    model_decoder,                         \n",
    "    (tgt_inp, hidden, encoder_outputs),                 \n",
    "    onnx_path,                    \n",
    "    export_params=True,            \n",
    "    opset_version=15,              \n",
    "    do_constant_folding=True,      \n",
    "    input_names=['tgt_inp', 'hidden_input', 'encoder_outputs'],  \n",
    "    output_names=['output', 'hidden_output'],  \n",
    "    dynamic_axes={                 \n",
    "        'tgt_inp': {0: 'batch_size', 1: 'time_step'},\n",
    "        'hidden_input': {0: 'batch_size'},\n",
    "        'encoder_outputs': {0: 'batch_size', 1: 'src_len'},\n",
    "        'output': {0: 'batch_size'},\n",
    "        'hidden_output': {0: 'batch_size'}\n",
    "    }\n",
    ")"
   ]
  }
 ],
 "metadata": {
  "kernelspec": {
   "display_name": "tuannha_onnx",
   "language": "python",
   "name": "python3"
  },
  "language_info": {
   "codemirror_mode": {
    "name": "ipython",
    "version": 3
   },
   "file_extension": ".py",
   "mimetype": "text/x-python",
   "name": "python",
   "nbconvert_exporter": "python",
   "pygments_lexer": "ipython3",
   "version": "3.10.16"
  }
 },
 "nbformat": 4,
 "nbformat_minor": 5
}
