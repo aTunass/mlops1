{
 "cells": [
  {
   "cell_type": "markdown",
   "id": "caa557be",
   "metadata": {},
   "source": [
    "# Import lib"
   ]
  },
  {
   "cell_type": "code",
   "execution_count": 8,
   "id": "6097cc09",
   "metadata": {},
   "outputs": [],
   "source": [
    "import matplotlib.pyplot as plt\n",
    "from PIL import Image\n",
    "from vietocr.tool.predictor import Predictor\n",
    "from vietocr.tool.translate import build_model, process_input\n",
    "from vietocr.tool.config import Cfg\n",
    "from torch.nn.functional import log_softmax, softmax\n",
    "\n",
    "import numpy as np\n",
    "import torch"
   ]
  },
  {
   "cell_type": "markdown",
   "id": "2c8c2441",
   "metadata": {},
   "source": [
    "# Load model"
   ]
  },
  {
   "cell_type": "code",
   "execution_count": 9,
   "id": "2e55fa88",
   "metadata": {},
   "outputs": [
    {
     "name": "stderr",
     "output_type": "stream",
     "text": [
      "/tmp/ipykernel_44390/1020464490.py:8: FutureWarning: You are using `torch.load` with `weights_only=False` (the current default value), which uses the default pickle module implicitly. It is possible to construct malicious pickle data which will execute arbitrary code during unpickling (See https://github.com/pytorch/pytorch/blob/main/SECURITY.md#untrusted-models for more details). In a future release, the default value for `weights_only` will be flipped to `True`. This limits the functions that could be executed during unpickling. Arbitrary objects will no longer be allowed to be loaded via this mode unless they are explicitly allowlisted by the user via `torch.serialization.add_safe_globals`. We recommend you start setting `weights_only=True` for any use case where you don't have full control of the loaded file. Please open an issue on GitHub for any issues related to this experimental feature.\n",
      "  model.load_state_dict(torch.load(config['weights'], map_location=torch.device(config['device'])))\n"
     ]
    },
    {
     "data": {
      "text/plain": [
       "VietOCR(\n",
       "  (cnn): CNN(\n",
       "    (model): Vgg(\n",
       "      (features): Sequential(\n",
       "        (0): Conv2d(3, 64, kernel_size=(3, 3), stride=(1, 1), padding=(1, 1))\n",
       "        (1): BatchNorm2d(64, eps=1e-05, momentum=0.1, affine=True, track_running_stats=True)\n",
       "        (2): ReLU(inplace=True)\n",
       "        (3): Conv2d(64, 64, kernel_size=(3, 3), stride=(1, 1), padding=(1, 1))\n",
       "        (4): BatchNorm2d(64, eps=1e-05, momentum=0.1, affine=True, track_running_stats=True)\n",
       "        (5): ReLU(inplace=True)\n",
       "        (6): AvgPool2d(kernel_size=[2, 2], stride=[2, 2], padding=0)\n",
       "        (7): Conv2d(64, 128, kernel_size=(3, 3), stride=(1, 1), padding=(1, 1))\n",
       "        (8): BatchNorm2d(128, eps=1e-05, momentum=0.1, affine=True, track_running_stats=True)\n",
       "        (9): ReLU(inplace=True)\n",
       "        (10): Conv2d(128, 128, kernel_size=(3, 3), stride=(1, 1), padding=(1, 1))\n",
       "        (11): BatchNorm2d(128, eps=1e-05, momentum=0.1, affine=True, track_running_stats=True)\n",
       "        (12): ReLU(inplace=True)\n",
       "        (13): AvgPool2d(kernel_size=[2, 2], stride=[2, 2], padding=0)\n",
       "        (14): Conv2d(128, 256, kernel_size=(3, 3), stride=(1, 1), padding=(1, 1))\n",
       "        (15): BatchNorm2d(256, eps=1e-05, momentum=0.1, affine=True, track_running_stats=True)\n",
       "        (16): ReLU(inplace=True)\n",
       "        (17): Conv2d(256, 256, kernel_size=(3, 3), stride=(1, 1), padding=(1, 1))\n",
       "        (18): BatchNorm2d(256, eps=1e-05, momentum=0.1, affine=True, track_running_stats=True)\n",
       "        (19): ReLU(inplace=True)\n",
       "        (20): Conv2d(256, 256, kernel_size=(3, 3), stride=(1, 1), padding=(1, 1))\n",
       "        (21): BatchNorm2d(256, eps=1e-05, momentum=0.1, affine=True, track_running_stats=True)\n",
       "        (22): ReLU(inplace=True)\n",
       "        (23): Conv2d(256, 256, kernel_size=(3, 3), stride=(1, 1), padding=(1, 1))\n",
       "        (24): BatchNorm2d(256, eps=1e-05, momentum=0.1, affine=True, track_running_stats=True)\n",
       "        (25): ReLU(inplace=True)\n",
       "        (26): AvgPool2d(kernel_size=[2, 1], stride=[2, 1], padding=0)\n",
       "        (27): Conv2d(256, 512, kernel_size=(3, 3), stride=(1, 1), padding=(1, 1))\n",
       "        (28): BatchNorm2d(512, eps=1e-05, momentum=0.1, affine=True, track_running_stats=True)\n",
       "        (29): ReLU(inplace=True)\n",
       "        (30): Conv2d(512, 512, kernel_size=(3, 3), stride=(1, 1), padding=(1, 1))\n",
       "        (31): BatchNorm2d(512, eps=1e-05, momentum=0.1, affine=True, track_running_stats=True)\n",
       "        (32): ReLU(inplace=True)\n",
       "        (33): Conv2d(512, 512, kernel_size=(3, 3), stride=(1, 1), padding=(1, 1))\n",
       "        (34): BatchNorm2d(512, eps=1e-05, momentum=0.1, affine=True, track_running_stats=True)\n",
       "        (35): ReLU(inplace=True)\n",
       "        (36): Conv2d(512, 512, kernel_size=(3, 3), stride=(1, 1), padding=(1, 1))\n",
       "        (37): BatchNorm2d(512, eps=1e-05, momentum=0.1, affine=True, track_running_stats=True)\n",
       "        (38): ReLU(inplace=True)\n",
       "        (39): AvgPool2d(kernel_size=[2, 1], stride=[2, 1], padding=0)\n",
       "        (40): Conv2d(512, 512, kernel_size=(3, 3), stride=(1, 1), padding=(1, 1))\n",
       "        (41): BatchNorm2d(512, eps=1e-05, momentum=0.1, affine=True, track_running_stats=True)\n",
       "        (42): ReLU(inplace=True)\n",
       "        (43): Conv2d(512, 512, kernel_size=(3, 3), stride=(1, 1), padding=(1, 1))\n",
       "        (44): BatchNorm2d(512, eps=1e-05, momentum=0.1, affine=True, track_running_stats=True)\n",
       "        (45): ReLU(inplace=True)\n",
       "        (46): Conv2d(512, 512, kernel_size=(3, 3), stride=(1, 1), padding=(1, 1))\n",
       "        (47): BatchNorm2d(512, eps=1e-05, momentum=0.1, affine=True, track_running_stats=True)\n",
       "        (48): ReLU(inplace=True)\n",
       "        (49): Conv2d(512, 512, kernel_size=(3, 3), stride=(1, 1), padding=(1, 1))\n",
       "        (50): BatchNorm2d(512, eps=1e-05, momentum=0.1, affine=True, track_running_stats=True)\n",
       "        (51): ReLU(inplace=True)\n",
       "        (52): AvgPool2d(kernel_size=[1, 1], stride=[1, 1], padding=0)\n",
       "      )\n",
       "      (dropout): Dropout(p=0.5, inplace=False)\n",
       "      (last_conv_1x1): Conv2d(512, 256, kernel_size=(1, 1), stride=(1, 1))\n",
       "    )\n",
       "  )\n",
       "  (transformer): Seq2Seq(\n",
       "    (encoder): Encoder(\n",
       "      (rnn): GRU(256, 256, bidirectional=True)\n",
       "      (fc): Linear(in_features=512, out_features=256, bias=True)\n",
       "      (dropout): Dropout(p=0.1, inplace=False)\n",
       "    )\n",
       "    (decoder): Decoder(\n",
       "      (attention): Attention(\n",
       "        (attn): Linear(in_features=768, out_features=256, bias=True)\n",
       "        (v): Linear(in_features=256, out_features=1, bias=False)\n",
       "      )\n",
       "      (embedding): Embedding(233, 256)\n",
       "      (rnn): GRU(768, 256)\n",
       "      (fc_out): Linear(in_features=1024, out_features=233, bias=True)\n",
       "      (dropout): Dropout(p=0.1, inplace=False)\n",
       "    )\n",
       "  )\n",
       ")"
      ]
     },
     "execution_count": 9,
     "metadata": {},
     "output_type": "execute_result"
    }
   ],
   "source": [
    "config = Cfg.load_config_from_file('../config/vietocr_seq2seq_config.yaml')\n",
    "\n",
    "config['weights'] = '../checkpoint/vgg_seq2seq.pth'\n",
    "config['cnn']['pretrained']=False\n",
    "config['device'] = 'cuda'\n",
    "\n",
    "model, vocab = build_model(config)\n",
    "model.load_state_dict(torch.load(config['weights'], map_location=torch.device(config['device'])))\n",
    "model.eval()\n"
   ]
  },
  {
   "cell_type": "markdown",
   "id": "860c0b7f",
   "metadata": {},
   "source": [
    "# Load image"
   ]
  },
  {
   "cell_type": "code",
   "execution_count": 10,
   "id": "a0e896c4",
   "metadata": {},
   "outputs": [
    {
     "data": {
      "image/png": "[encoded data removed]",
      "text/plain": [
       "<PIL.PngImagePlugin.PngImageFile image mode=RGBA size=742x89>"
      ]
     },
     "execution_count": 10,
     "metadata": {},
     "output_type": "execute_result"
    }
   ],
   "source": [
    "img = Image.open(\"../asset/test.png\")\n",
    "img"
   ]
  },
  {
   "cell_type": "code",
   "execution_count": 11,
   "id": "cc75b4ca",
   "metadata": {},
   "outputs": [],
   "source": [
    "img = process_input(img, config['dataset']['image_height'], \n",
    "                config['dataset']['image_min_width'], config['dataset']['image_max_width'])     \n",
    "img = img.to(config['device'])"
   ]
  },
  {
   "cell_type": "markdown",
   "id": "00ee9df8",
   "metadata": {},
   "source": [
    "# Inference"
   ]
  },
  {
   "cell_type": "code",
   "execution_count": 15,
   "id": "21b32808",
   "metadata": {},
   "outputs": [
    {
     "name": "stdout",
     "output_type": "stream",
     "text": [
      "[1, 97, 26, 144, 232, 76, 6, 98, 74, 232, 40, 12, 98, 232, 207, 77, 100, 26, 42, 232, 98, 74, 6, 98, 76, 232, 98, 74, 76, 62, 232, 92, 78, 98, 76, 232, 44, 100, 4, 98, 76, 208, 2]\n",
      "Text:  Mặt hàng bán (Hoặc ngành nghề kinh doanh)\n"
     ]
    }
   ],
   "source": [
    "max_seq_length=128\n",
    "sos_token=1\n",
    "eos_token=2\n",
    "with torch.no_grad():\n",
    "    src = model.cnn(img) \n",
    "    memory = model.transformer.forward_encoder(src)\n",
    "\n",
    "    translated_sentence = [[sos_token]*len(img)]\n",
    "    char_probs = [[1]*len(img)]\n",
    "\n",
    "    max_length = 0\n",
    "\n",
    "    while max_length <= max_seq_length and not all(np.any(np.asarray(translated_sentence).T==eos_token, axis=1)):\n",
    "\n",
    "        tgt_inp = torch.LongTensor(translated_sentence).to(config['device'])\n",
    "        \n",
    "        output, memory = model.transformer.forward_decoder(tgt_inp, memory)\n",
    "        output = softmax(output, dim=-1)\n",
    "        output = output.to('cpu')\n",
    "\n",
    "        values, indices  = torch.topk(output, 5)\n",
    "        \n",
    "        indices = indices[:, -1, 0]\n",
    "        indices = indices.tolist()\n",
    "        \n",
    "        \n",
    "        values = values[:, -1, 0]\n",
    "        values = values.tolist()\n",
    "        char_probs.append(values)\n",
    "\n",
    "        translated_sentence.append(indices)   \n",
    "        max_length += 1\n",
    "\n",
    "        del output\n",
    "\n",
    "    translated_sentence = np.asarray(translated_sentence).T\n",
    "    \n",
    "    char_probs = np.asarray(char_probs).T\n",
    "    char_probs = np.multiply(char_probs, translated_sentence>3)\n",
    "    char_probs = np.sum(char_probs, axis=-1)/(char_probs>0).sum(-1)\n",
    "\n",
    "translated_sentence = translated_sentence[0].tolist()\n",
    "print(translated_sentence)\n",
    "s = vocab.decode(translated_sentence)\n",
    "print(\"Text: \", s)"
   ]
  }
 ],
 "metadata": {
  "kernelspec": {
   "display_name": "tuannha_onnx",
   "language": "python",
   "name": "python3"
  },
  "language_info": {
   "codemirror_mode": {
    "name": "ipython",
    "version": 3
   },
   "file_extension": ".py",
   "mimetype": "text/x-python",
   "name": "python",
   "nbconvert_exporter": "python",
   "pygments_lexer": "ipython3",
   "version": "3.10.16"
  }
 },
 "nbformat": 4,
 "nbformat_minor": 5
}
